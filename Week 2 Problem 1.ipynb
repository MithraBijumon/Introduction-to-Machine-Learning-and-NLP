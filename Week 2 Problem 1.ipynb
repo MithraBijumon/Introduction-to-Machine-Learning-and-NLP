{
 "cells": [
  {
   "cell_type": "code",
   "execution_count": 1,
   "id": "1b8b30a5-3ede-4aa7-b60b-7ef45bb3b6e9",
   "metadata": {},
   "outputs": [],
   "source": [
    "corpus = [\n",
    "    'the sun is a star',\n",
    "    'the moon is a satellite',\n",
    "    'the sun and moon are celestial bodies'\n",
    "]"
   ]
  },
  {
   "cell_type": "raw",
   "id": "b6f63d89-292a-49e7-a289-f786e7874f23",
   "metadata": {},
   "source": [
    "SKLEARN'S COUNTVECTORIZER TO IMPLEMENT BOW"
   ]
  },
  {
   "cell_type": "code",
   "execution_count": 46,
   "id": "0b466034-38b8-4813-be86-4815a6700f98",
   "metadata": {},
   "outputs": [],
   "source": [
    "from sklearn.feature_extraction.text import CountVectorizer\n",
    "vectorizer = CountVectorizer()\n",
    "vectorizer.fit(corpus)\n",
    "vectors = vectorizer.transform(corpus)"
   ]
  },
  {
   "cell_type": "code",
   "execution_count": 47,
   "id": "d26d7603-1d31-4bad-9b55-fb2a7a1efc1b",
   "metadata": {},
   "outputs": [
    {
     "name": "stdout",
     "output_type": "stream",
     "text": [
      "and : 0\n",
      "are : 1\n",
      "bodies : 2\n",
      "celestial : 3\n",
      "is : 4\n",
      "moon : 5\n",
      "satellite : 6\n",
      "star : 7\n",
      "sun : 8\n",
      "the : 9\n"
     ]
    }
   ],
   "source": [
    "d = vectorizer.vocabulary_\n",
    "for i in sorted(d):\n",
    "    print(i, \":\", d[i]) "
   ]
  },
  {
   "cell_type": "code",
   "execution_count": 48,
   "id": "10afba40-4ec1-43f3-97b9-1bb32f6f3a76",
   "metadata": {},
   "outputs": [
    {
     "name": "stdout",
     "output_type": "stream",
     "text": [
      "[[0 0 0 0 1 0 0 1 1 1]\n",
      " [0 0 0 0 1 1 1 0 0 1]\n",
      " [1 1 1 1 0 1 0 0 1 1]]\n"
     ]
    }
   ],
   "source": [
    "print(vectors.toarray())"
   ]
  },
  {
   "cell_type": "code",
   "execution_count": 49,
   "id": "9a863379-038e-43e9-8d8e-657194109eb0",
   "metadata": {},
   "outputs": [
    {
     "data": {
      "text/plain": [
       "<Compressed Sparse Row sparse matrix of dtype 'int64'\n",
       "\twith 15 stored elements and shape (3, 10)>"
      ]
     },
     "execution_count": 49,
     "metadata": {},
     "output_type": "execute_result"
    }
   ],
   "source": [
    "vectors"
   ]
  },
  {
   "cell_type": "code",
   "execution_count": 50,
   "id": "62ac1f4e-919b-4f2e-9c66-c270384ca93c",
   "metadata": {},
   "outputs": [
    {
     "name": "stdout",
     "output_type": "stream",
     "text": [
      "   and  are  bodies  celestial  is  moon  satellite  star  sun  the\n",
      "0    0    0       0          0   1     0          0     1    1    1\n",
      "1    0    0       0          0   1     1          1     0    0    1\n",
      "2    1    1       1          1   0     1          0     0    1    1\n"
     ]
    }
   ],
   "source": [
    "import pandas as pd\n",
    "df = pd.DataFrame(\n",
    "    vectors.toarray(), \n",
    "    columns=vectorizer.get_feature_names_out()\n",
    ")\n",
    "print(df)"
   ]
  },
  {
   "cell_type": "raw",
   "id": "b48ec091-dca7-4f72-bffd-3d3fbf2ab6ea",
   "metadata": {},
   "source": [
    "SKLEARN'S TF-IDF"
   ]
  },
  {
   "cell_type": "code",
   "execution_count": 51,
   "id": "9d61ab3d-4189-4278-8ba4-d0bfbd7dc547",
   "metadata": {},
   "outputs": [],
   "source": [
    "from sklearn.feature_extraction.text import TfidfVectorizer\n",
    "vectorizer = TfidfVectorizer()\n",
    "vectors = vectorizer.fit_transform(corpus)"
   ]
  },
  {
   "cell_type": "code",
   "execution_count": 52,
   "id": "885af81a-2f63-46c6-9d3f-8f2b9634e365",
   "metadata": {},
   "outputs": [
    {
     "name": "stdout",
     "output_type": "stream",
     "text": [
      "and : 0\n",
      "are : 1\n",
      "bodies : 2\n",
      "celestial : 3\n",
      "is : 4\n",
      "moon : 5\n",
      "satellite : 6\n",
      "star : 7\n",
      "sun : 8\n",
      "the : 9\n"
     ]
    }
   ],
   "source": [
    "d = vectorizer.vocabulary_\n",
    "for i in sorted(d):\n",
    "    print(i, \":\", d[i]) "
   ]
  },
  {
   "cell_type": "code",
   "execution_count": 53,
   "id": "0f2d9b8c-f381-488b-bd87-310a7fa85d67",
   "metadata": {},
   "outputs": [
    {
     "name": "stdout",
     "output_type": "stream",
     "text": [
      "[1.69314718 1.69314718 1.69314718 1.69314718 1.28768207 1.28768207\n",
      " 1.69314718 1.69314718 1.28768207 1.        ]\n"
     ]
    }
   ],
   "source": [
    "print(vectorizer.idf_)"
   ]
  },
  {
   "cell_type": "code",
   "execution_count": 54,
   "id": "fb069a0e-9de0-4ef9-9040-4b9f81dd662c",
   "metadata": {},
   "outputs": [
    {
     "name": "stdout",
     "output_type": "stream",
     "text": [
      "<Compressed Sparse Row sparse matrix of dtype 'float64'\n",
      "\twith 15 stored elements and shape (3, 10)>\n",
      "  Coords\tValues\n",
      "  (0, 9)\t0.3731188059313277\n",
      "  (0, 8)\t0.4804583972923858\n",
      "  (0, 4)\t0.4804583972923858\n",
      "  (0, 7)\t0.6317450542765208\n",
      "  (1, 9)\t0.3731188059313277\n",
      "  (1, 4)\t0.4804583972923858\n",
      "  (1, 5)\t0.4804583972923858\n",
      "  (1, 6)\t0.6317450542765208\n",
      "  (2, 9)\t0.2517108425440014\n",
      "  (2, 8)\t0.3241235393856436\n",
      "  (2, 5)\t0.3241235393856436\n",
      "  (2, 0)\t0.42618350336974425\n",
      "  (2, 1)\t0.42618350336974425\n",
      "  (2, 3)\t0.42618350336974425\n",
      "  (2, 2)\t0.42618350336974425\n"
     ]
    }
   ],
   "source": [
    "print(vectors)"
   ]
  },
  {
   "cell_type": "code",
   "execution_count": 55,
   "id": "7f9a7ed5-3902-46e0-abee-dd24c888512a",
   "metadata": {},
   "outputs": [
    {
     "name": "stdout",
     "output_type": "stream",
     "text": [
      "[[0.         0.         0.         0.         0.4804584  0.\n",
      "  0.         0.63174505 0.4804584  0.37311881]\n",
      " [0.         0.         0.         0.         0.4804584  0.4804584\n",
      "  0.63174505 0.         0.         0.37311881]\n",
      " [0.4261835  0.4261835  0.4261835  0.4261835  0.         0.32412354\n",
      "  0.         0.         0.32412354 0.25171084]]\n"
     ]
    }
   ],
   "source": [
    "print(vectors.toarray())"
   ]
  },
  {
   "cell_type": "code",
   "execution_count": 56,
   "id": "b755d2a3-f89b-4f3f-b82e-e161ae3961db",
   "metadata": {},
   "outputs": [
    {
     "name": "stdout",
     "output_type": "stream",
     "text": [
      "        and       are    bodies  celestial        is      moon  satellite  \\\n",
      "0  0.000000  0.000000  0.000000   0.000000  0.480458  0.000000   0.000000   \n",
      "1  0.000000  0.000000  0.000000   0.000000  0.480458  0.480458   0.631745   \n",
      "2  0.426184  0.426184  0.426184   0.426184  0.000000  0.324124   0.000000   \n",
      "\n",
      "       star       sun       the  \n",
      "0  0.631745  0.480458  0.373119  \n",
      "1  0.000000  0.000000  0.373119  \n",
      "2  0.000000  0.324124  0.251711  \n"
     ]
    }
   ],
   "source": [
    "import pandas as pd\n",
    "df = pd.DataFrame(\n",
    "    vectors.toarray(), \n",
    "    columns=vectorizer.get_feature_names_out()\n",
    ")\n",
    "print(df)"
   ]
  },
  {
   "cell_type": "raw",
   "id": "df447f40-768b-423b-b864-04362dbee405",
   "metadata": {},
   "source": [
    "MANUAL TF-IDF"
   ]
  },
  {
   "cell_type": "code",
   "execution_count": 60,
   "id": "a9fc903d-6d0c-44fa-a47f-aedab5eae6d2",
   "metadata": {},
   "outputs": [
    {
     "name": "stdout",
     "output_type": "stream",
     "text": [
      "['the', 'sun', 'is', 'a', 'star', 'the', 'moon', 'is', 'a', 'satellite', 'the', 'sun', 'and', 'moon', 'are', 'celestial', 'bodies']\n"
     ]
    }
   ],
   "source": [
    "print(\" \".join(corpus).split())"
   ]
  },
  {
   "cell_type": "code",
   "execution_count": 65,
   "id": "8caf19b5-efa8-49ea-b331-e274724a3775",
   "metadata": {},
   "outputs": [
    {
     "name": "stdout",
     "output_type": "stream",
     "text": [
      "['bodies', 'sun', 'satellite', 'star', 'the', 'moon', 'are', 'a', 'celestial', 'is', 'and']\n"
     ]
    }
   ],
   "source": [
    "vocab = list(set(\" \".join(corpus).split()))\n",
    "print(vocab)"
   ]
  },
  {
   "cell_type": "code",
   "execution_count": 66,
   "id": "da2a4df2-6b7e-4541-9f3d-a6e0bcfbd8e1",
   "metadata": {},
   "outputs": [
    {
     "name": "stdout",
     "output_type": "stream",
     "text": [
      "{'bodies': 0, 'sun': 1, 'satellite': 2, 'star': 3, 'the': 4, 'moon': 5, 'are': 6, 'a': 7, 'celestial': 8, 'is': 9, 'and': 10}\n"
     ]
    }
   ],
   "source": [
    "d = {}\n",
    "for i, word in enumerate(vocab):\n",
    "    d[word] = i\n",
    "print(d)"
   ]
  },
  {
   "cell_type": "code",
   "execution_count": 81,
   "id": "325745b4-024d-471b-9ffd-c054baa2b4c7",
   "metadata": {},
   "outputs": [],
   "source": [
    "def tf(word, doc):\n",
    "    count = 0\n",
    "    for i in doc.split():\n",
    "        if word==i:\n",
    "            count+=1\n",
    "    return count/len(doc.split())"
   ]
  },
  {
   "cell_type": "code",
   "execution_count": 82,
   "id": "aa58bcbf-d144-4d11-87b8-736a25298dd4",
   "metadata": {},
   "outputs": [],
   "source": [
    "import math\n",
    "def idf(word,corpus):\n",
    "    count = 0\n",
    "    for doc in corpus:\n",
    "        if word in doc.split():\n",
    "            count+=1\n",
    "    return math.log(len(corpus)/count)"
   ]
  },
  {
   "cell_type": "code",
   "execution_count": 83,
   "id": "633ba1af-e1fd-47a6-a5a3-b4e36b90856c",
   "metadata": {},
   "outputs": [
    {
     "name": "stdout",
     "output_type": "stream",
     "text": [
      "     bodies       sun  satellite      star  the      moon       are         a  \\\n",
      "0  0.000000  0.081093   0.000000  0.219722  0.0  0.000000  0.000000  0.081093   \n",
      "1  0.000000  0.000000   0.219722  0.000000  0.0  0.081093  0.000000  0.081093   \n",
      "2  0.156945  0.057924   0.000000  0.000000  0.0  0.057924  0.156945  0.000000   \n",
      "\n",
      "   celestial        is       and  \n",
      "0   0.000000  0.081093  0.000000  \n",
      "1   0.000000  0.081093  0.000000  \n",
      "2   0.156945  0.000000  0.156945  \n"
     ]
    }
   ],
   "source": [
    "df = pd.DataFrame(columns=vocab)\n",
    "vector = []\n",
    "for i in range(len(corpus)):\n",
    "    for j in vocab:\n",
    "        vector.append(tf(j, corpus[i])*idf(j,corpus))\n",
    "    df.loc[i]=vector\n",
    "    vector=[]\n",
    "print(df)"
   ]
  }
 ],
 "metadata": {
  "kernelspec": {
   "display_name": "Python 3 (ipykernel)",
   "language": "python",
   "name": "python3"
  },
  "language_info": {
   "codemirror_mode": {
    "name": "ipython",
    "version": 3
   },
   "file_extension": ".py",
   "mimetype": "text/x-python",
   "name": "python",
   "nbconvert_exporter": "python",
   "pygments_lexer": "ipython3",
   "version": "3.11.9"
  }
 },
 "nbformat": 4,
 "nbformat_minor": 5
}
