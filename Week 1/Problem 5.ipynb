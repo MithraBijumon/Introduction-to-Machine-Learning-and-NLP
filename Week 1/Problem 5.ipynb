{
 "cells": [
  {
   "cell_type": "code",
   "execution_count": 8,
   "id": "d7dde54d-88dd-4a86-a3e5-acc1b190bd9c",
   "metadata": {},
   "outputs": [],
   "source": [
    "import pandas as pd\n",
    "data = {\n",
    "    \"Feedback\": [\n",
    "        \"Loved the product quality.\",\n",
    "        \"The delivery was late and packaging was damaged.\",\n",
    "        \"Excellent customer service.\",\n",
    "        \"Terrible experience, would not recommend.\",\n",
    "        \"Very user-friendly and efficient.\",\n",
    "        \"Stopped working after a week.\",\n",
    "        \"Highly satisfied with the purchase.\",\n",
    "        \"Not worth the money.\",\n",
    "        \"Quick delivery and great packaging.\",\n",
    "        \"Product broke after first use.\",\n",
    "        \"Met all my expectations.\",\n",
    "        \"Defective item received.\",\n",
    "        \"Five stars for sure!\",\n",
    "        \"Not as described.\",\n",
    "        \"Superb build quality.\",\n",
    "        \"Awful customer support.\",\n",
    "        \"Works flawlessly.\",\n",
    "        \"Waste of money.\",\n",
    "        \"Absolutely fantastic!\",\n",
    "        \"Very disappointing experience.\",\n",
    "        \"Easy to set up and use.\",\n",
    "        \"Battery drains too fast.\",\n",
    "        \"Exceeded my expectations.\",\n",
    "        \"Item never arrived.\",\n",
    "        \"Amazing value for the price.\",\n",
    "        \"Wouldn't buy again.\",\n",
    "        \"Reliable and durable.\",\n",
    "        \"Cheap material used.\",\n",
    "        \"Happy with the purchase.\",\n",
    "        \"Too complicated to use.\",\n",
    "        \"Smooth and fast performance.\",\n",
    "        \"Missing parts in the box.\",\n",
    "        \"Great product for everyday use.\",\n",
    "        \"Not functioning properly.\",\n",
    "        \"Totally worth it.\",\n",
    "        \"Bad odor from the product.\",\n",
    "        \"The size was perfect.\",\n",
    "        \"Paint chipped off quickly.\",\n",
    "        \"Absolutely love it.\",\n",
    "        \"Arrived broken.\",\n",
    "        \"Good value for money.\",\n",
    "        \"Product feels flimsy.\",\n",
    "        \"Looks exactly like the pictures.\",\n",
    "        \"Very poor quality.\",\n",
    "        \"Great for gifting.\",\n",
    "        \"Poor stitching and fit.\",\n",
    "        \"Outstanding customer support.\",\n",
    "        \"Plastic feels very cheap.\",\n",
    "        \"Would definitely recommend!\",\n",
    "        \"Returned it immediately.\",\n",
    "        \"Extremely useful.\",\n",
    "        \"Does not match the description.\",\n",
    "        \"Perfect for my needs.\",\n",
    "        \"Unresponsive buttons.\",\n",
    "        \"Really happy with it.\",\n",
    "        \"Unimpressive and dull.\",\n",
    "        \"Just what I needed.\",\n",
    "        \"Feels like a knockoff.\",\n",
    "        \"Top-notch performance.\",\n",
    "        \"Cable is too short.\",\n",
    "        \"Very intuitive interface.\",\n",
    "        \"Dead on arrival.\",\n",
    "        \"Fantastic deal!\",\n",
    "        \"Delivery took too long.\",\n",
    "        \"Surprisingly good quality.\",\n",
    "        \"Glitchy and slow.\",\n",
    "        \"Can't live without it now.\",\n",
    "        \"Disappointed with the packaging.\",\n",
    "        \"Feels premium.\",\n",
    "        \"Stopped working randomly.\",\n",
    "        \"User manual was very helpful.\",\n",
    "        \"Uncomfortable to wear.\",\n",
    "        \"Loving this purchase!\",\n",
    "        \"Bad design choice.\",\n",
    "        \"Exactly what I hoped for.\",\n",
    "        \"Doesn't do what it claims.\",\n",
    "        \"Very well made.\",\n",
    "        \"Item was clearly used.\",\n",
    "        \"Truly outstanding.\",\n",
    "        \"Packaging was open.\",\n",
    "        \"Feels reliable and solid.\",\n",
    "        \"Doesn’t charge properly.\",\n",
    "        \"Best product I’ve bought this year.\",\n",
    "        \"Super noisy.\",\n",
    "        \"Very satisfied.\",\n",
    "        \"Not waterproof as advertised.\",\n",
    "        \"Feels luxurious.\",\n",
    "        \"Display is cracked.\",\n",
    "        \"Really easy to clean.\",\n",
    "        \"Too bulky to carry.\",\n",
    "        \"Excellent craftsmanship.\",\n",
    "        \"Overheats quickly.\",\n",
    "        \"Made my life easier.\",\n",
    "        \"Hinges are too weak.\",\n",
    "        \"Perfectly designed.\",\n",
    "        \"Doesn't fit the description.\",\n",
    "        \"Exactly what I needed.\",\n",
    "        \"Laggy and unresponsive.\",\n",
    "        \"Beautifully packaged.\",\n",
    "        \"Battery life is horrible.\",\n",
    "    ],\n",
    "    \"Label\": [\n",
    "        \"Good\", \"Bad\", \"Good\", \"Bad\", \"Good\", \"Bad\", \"Good\", \"Bad\", \"Good\", \"Bad\",\n",
    "        \"Good\", \"Bad\", \"Good\", \"Bad\", \"Good\", \"Bad\", \"Good\", \"Bad\", \"Good\", \"Bad\",\n",
    "        \"Good\", \"Bad\", \"Good\", \"Bad\", \"Good\", \"Bad\", \"Good\", \"Bad\", \"Good\", \"Bad\",\n",
    "        \"Good\", \"Bad\", \"Good\", \"Bad\", \"Good\", \"Bad\", \"Good\", \"Bad\", \"Good\", \"Bad\",\n",
    "        \"Good\", \"Bad\", \"Good\", \"Bad\", \"Good\", \"Bad\", \"Good\", \"Bad\", \"Good\", \"Bad\",\n",
    "        \"Good\", \"Bad\", \"Good\", \"Bad\", \"Good\", \"Bad\", \"Good\", \"Bad\", \"Good\", \"Bad\",\n",
    "        \"Good\", \"Bad\", \"Good\", \"Bad\", \"Good\", \"Bad\", \"Good\", \"Bad\", \"Good\", \"Bad\",\n",
    "        \"Good\", \"Bad\", \"Good\", \"Bad\", \"Good\", \"Bad\", \"Good\", \"Bad\", \"Good\", \"Bad\",\n",
    "        \"Good\", \"Bad\", \"Good\", \"Bad\", \"Good\", \"Bad\", \"Good\", \"Bad\", \"Good\", \"Bad\",\n",
    "        \"Good\", \"Bad\", \"Good\", \"Bad\", \"Good\", \"Bad\", \"Good\", \"Bad\", \"Good\", \"Bad\"\n",
    "    ]\n",
    "}\n"
   ]
  },
  {
   "cell_type": "code",
   "execution_count": 9,
   "id": "26f13e6c-f544-4724-a26b-cbcebef739fe",
   "metadata": {},
   "outputs": [
    {
     "name": "stdout",
     "output_type": "stream",
     "text": [
      "100\n",
      "100\n"
     ]
    }
   ],
   "source": [
    "print(len(data[\"Feedback\"]))\n",
    "print(len(data[\"Label\"]))"
   ]
  },
  {
   "cell_type": "code",
   "execution_count": 10,
   "id": "bf18ba05-9865-445d-86e6-c012d151ec5a",
   "metadata": {},
   "outputs": [],
   "source": [
    "df = pd.DataFrame(data)"
   ]
  },
  {
   "cell_type": "code",
   "execution_count": 11,
   "id": "aa3d42c4-1608-4374-883e-6e479dcdf692",
   "metadata": {},
   "outputs": [],
   "source": [
    "from sklearn.feature_extraction.text import TfidfVectorizer\n",
    "vectorizer = TfidfVectorizer(lowercase=True, max_features=300, stop_words='english')"
   ]
  },
  {
   "cell_type": "code",
   "execution_count": 12,
   "id": "ec4ed8b6-58b7-42e4-9576-1643014cdba2",
   "metadata": {},
   "outputs": [],
   "source": [
    "X = vectorizer.fit_transform(data[\"Feedback\"])"
   ]
  },
  {
   "cell_type": "code",
   "execution_count": 13,
   "id": "2f466eab-b38e-4659-a2f6-73d6f5be1c32",
   "metadata": {},
   "outputs": [
    {
     "data": {
      "text/plain": [
       "array(['absolutely', 'advertised', 'amazing', 'arrival', 'arrived',\n",
       "       'awful', 'bad', 'battery', 'beautifully', 'best', 'bought', 'box',\n",
       "       'broke', 'broken', 'build', 'bulky', 'buttons', 'buy', 'cable',\n",
       "       'carry', 'charge', 'cheap', 'chipped', 'choice', 'claims', 'clean',\n",
       "       'clearly', 'complicated', 'cracked', 'craftsmanship', 'customer',\n",
       "       'damaged', 'dead', 'deal', 'defective', 'definitely', 'delivery',\n",
       "       'described', 'description', 'design', 'designed', 'disappointed',\n",
       "       'disappointing', 'display', 'does', 'doesn', 'drains', 'dull',\n",
       "       'durable', 'easier', 'easy', 'efficient', 'everyday', 'exactly',\n",
       "       'exceeded', 'excellent', 'expectations', 'experience', 'extremely',\n",
       "       'fantastic', 'fast', 'feels', 'fit', 'flawlessly', 'flimsy',\n",
       "       'friendly', 'functioning', 'gifting', 'glitchy', 'good', 'great',\n",
       "       'happy', 'helpful', 'highly', 'hinges', 'hoped', 'horrible',\n",
       "       'immediately', 'interface', 'intuitive', 'item', 'just',\n",
       "       'knockoff', 'laggy', 'late', 'life', 'like', 'live', 'long',\n",
       "       'looks', 'love', 'loved', 'loving', 'luxurious', 'manual', 'match',\n",
       "       'material', 'met', 'missing', 'money', 'needed', 'needs', 'noisy',\n",
       "       'notch', 'odor', 'open', 'outstanding', 'overheats', 'packaged',\n",
       "       'packaging', 'paint', 'parts', 'perfect', 'perfectly',\n",
       "       'performance', 'pictures', 'plastic', 'poor', 'premium', 'price',\n",
       "       'product', 'properly', 'purchase', 'quality', 'quick', 'quickly',\n",
       "       'randomly', 'really', 'received', 'recommend', 'reliable',\n",
       "       'returned', 'satisfied', 'service', 'set', 'short', 'size', 'slow',\n",
       "       'smooth', 'solid', 'stars', 'stitching', 'stopped', 'super',\n",
       "       'superb', 'support', 'sure', 'surprisingly', 'terrible', 'took',\n",
       "       'totally', 'truly', 'uncomfortable', 'unimpressive',\n",
       "       'unresponsive', 'use', 'used', 'useful', 'user', 'value', 've',\n",
       "       'waste', 'waterproof', 'weak', 'wear', 'week', 'working', 'works',\n",
       "       'worth', 'wouldn', 'year'], dtype=object)"
      ]
     },
     "execution_count": 13,
     "metadata": {},
     "output_type": "execute_result"
    }
   ],
   "source": [
    "vectorizer.get_feature_names_out()"
   ]
  },
  {
   "cell_type": "code",
   "execution_count": 15,
   "id": "40763b09-f255-44cd-b90c-8a27fd6f288f",
   "metadata": {},
   "outputs": [],
   "source": [
    "from sklearn.model_selection import train_test_split\n",
    "feedbacks_train_set, feedbacks_test_set, labels_train_set, labels_test_set = train_test_split(X, df[\"Label\"], test_size=0.75, train_size=0.25, random_state=12)"
   ]
  },
  {
   "cell_type": "code",
   "execution_count": 16,
   "id": "8fd01ab5-f890-4016-8ddb-709b14a009a7",
   "metadata": {},
   "outputs": [],
   "source": [
    "from sklearn.linear_model import LogisticRegression\n",
    "clf = LogisticRegression(random_state=12).fit(feedbacks_train_set, labels_train_set)"
   ]
  },
  {
   "cell_type": "code",
   "execution_count": 18,
   "id": "f8ce96b5-8218-4440-9da8-f8cc671cf525",
   "metadata": {},
   "outputs": [],
   "source": [
    "labels_pred = clf.predict(feedbacks_test_set)"
   ]
  },
  {
   "cell_type": "code",
   "execution_count": 21,
   "id": "be3a426a-4a10-4552-bb53-97dce4c339cc",
   "metadata": {},
   "outputs": [
    {
     "name": "stdout",
     "output_type": "stream",
     "text": [
      "Macro Precision: 0.6772486772486772\n",
      "Micro Precision: 0.64\n",
      "Weighted Precision: 0.6783774250440916\n"
     ]
    }
   ],
   "source": [
    "from sklearn.metrics import precision_score\n",
    "macro_precision = precision_score(labels_test_set, labels_pred, average='macro')\n",
    "micro_precision = precision_score(labels_test_set, labels_pred, average='micro')\n",
    "weighted_precision = precision_score(labels_test_set, labels_pred, average='weighted')\n",
    "print(\"Macro Precision:\", macro_precision)\n",
    "print(\"Micro Precision:\", micro_precision)\n",
    "print(\"Weighted Precision:\", weighted_precision)"
   ]
  },
  {
   "cell_type": "code",
   "execution_count": 22,
   "id": "1f611a15-343b-469b-94d4-277ff2276c32",
   "metadata": {},
   "outputs": [
    {
     "name": "stdout",
     "output_type": "stream",
     "text": [
      "Macro Recall: 0.6429587482219061\n",
      "Micro Recall: 0.64\n",
      "Weighted Recall: 0.64\n"
     ]
    }
   ],
   "source": [
    "from sklearn.metrics import recall_score\n",
    "macro_recall = recall_score(labels_test_set, labels_pred, average='macro')\n",
    "micro_recall = recall_score(labels_test_set, labels_pred, average='micro')\n",
    "weighted_recall = recall_score(labels_test_set, labels_pred, average='weighted')\n",
    "print(\"Macro Recall:\", macro_recall)\n",
    "print(\"Micro Recall:\", micro_recall)\n",
    "print(\"Weighted Recall:\", weighted_recall)"
   ]
  },
  {
   "cell_type": "code",
   "execution_count": 23,
   "id": "5019e2e7-fe36-4868-9947-7cdc41672272",
   "metadata": {},
   "outputs": [
    {
     "name": "stdout",
     "output_type": "stream",
     "text": [
      "Macro F1: 0.6228347923263178\n",
      "Micro F1: 0.64\n",
      "Weighted F1: 0.6217619668467126\n"
     ]
    }
   ],
   "source": [
    "from sklearn.metrics import f1_score\n",
    "macro_f1 = f1_score(labels_test_set, labels_pred, average='macro')\n",
    "micro_f1 = f1_score(labels_test_set, labels_pred, average='micro')\n",
    "weighted_f1 = f1_score(labels_test_set, labels_pred, average='weighted')\n",
    "print(\"Macro F1:\", macro_f1)\n",
    "print(\"Micro F1:\", micro_f1)\n",
    "print(\"Weighted F1:\", weighted_f1)"
   ]
  },
  {
   "cell_type": "code",
   "execution_count": 26,
   "id": "afcedb38-9581-491a-ba02-b9797082b716",
   "metadata": {},
   "outputs": [],
   "source": [
    "def text_preprocess_vectorize(texts, vectorizer):\n",
    "    return clf.predict(vectorizer.transform(texts))"
   ]
  },
  {
   "cell_type": "code",
   "execution_count": 27,
   "id": "56239ebb-51c5-48f1-a0cc-02475f01eea8",
   "metadata": {},
   "outputs": [
    {
     "name": "stdout",
     "output_type": "stream",
     "text": [
      "['Bad' 'Bad' 'Good']\n"
     ]
    }
   ],
   "source": [
    "texts = [\"This is great\", \"Terrible experience\", \"Highly recommended\"]\n",
    "print(text_preprocess_vectorize(texts, vectorizer))"
   ]
  }
 ],
 "metadata": {
  "kernelspec": {
   "display_name": "Python 3 (ipykernel)",
   "language": "python",
   "name": "python3"
  },
  "language_info": {
   "codemirror_mode": {
    "name": "ipython",
    "version": 3
   },
   "file_extension": ".py",
   "mimetype": "text/x-python",
   "name": "python",
   "nbconvert_exporter": "python",
   "pygments_lexer": "ipython3",
   "version": "3.11.9"
  }
 },
 "nbformat": 4,
 "nbformat_minor": 5
}
