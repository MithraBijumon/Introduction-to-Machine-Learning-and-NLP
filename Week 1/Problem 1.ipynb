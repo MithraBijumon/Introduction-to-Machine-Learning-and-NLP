{
 "cells": [
  {
   "cell_type": "code",
   "execution_count": 16,
   "id": "6b72004a-0811-4396-b299-9efc99ce62cd",
   "metadata": {},
   "outputs": [],
   "source": [
    "import numpy as np\n",
    "arr= np.random.randint(1, 50, size=(5, 4))"
   ]
  },
  {
   "cell_type": "code",
   "execution_count": 17,
   "id": "a0a7ca88-ab22-4419-8aae-58df7e589683",
   "metadata": {},
   "outputs": [
    {
     "name": "stdout",
     "output_type": "stream",
     "text": [
      "[[12 13  5 45]\n",
      " [11 44 45 16]\n",
      " [48  3 35 15]\n",
      " [42 23 44 47]\n",
      " [30 32 35 39]]\n"
     ]
    }
   ],
   "source": [
    "print(arr)"
   ]
  },
  {
   "cell_type": "code",
   "execution_count": 18,
   "id": "88cedeee-a389-49d4-af63-c2fbdb595b34",
   "metadata": {},
   "outputs": [
    {
     "name": "stdout",
     "output_type": "stream",
     "text": [
      "45\n",
      "45\n",
      "3\n",
      "42\n"
     ]
    }
   ],
   "source": [
    "index = 3\n",
    "for i in range(4):\n",
    "    print(arr[i][index])\n",
    "    index -= 1"
   ]
  },
  {
   "cell_type": "code",
   "execution_count": 19,
   "id": "9e8ca39a-968b-4910-815a-ac0496d14185",
   "metadata": {},
   "outputs": [
    {
     "name": "stdout",
     "output_type": "stream",
     "text": [
      "45\n",
      "45\n",
      "48\n",
      "47\n",
      "39\n"
     ]
    }
   ],
   "source": [
    "for row in arr:\n",
    "    print(row.max())"
   ]
  },
  {
   "cell_type": "code",
   "execution_count": 26,
   "id": "c10b5b85-d8fe-49a7-8c07-f9a0f6ed6215",
   "metadata": {},
   "outputs": [
    {
     "name": "stdout",
     "output_type": "stream",
     "text": [
      "[12, 13, 5, 11, 16, 3, 15, 23]\n",
      "[12 13  5 11 16  3 15 23]\n"
     ]
    }
   ],
   "source": [
    "mean = np.mean(arr)\n",
    "l = []\n",
    "for row in arr:\n",
    "    for element in row:\n",
    "        if element <= mean:\n",
    "            l.append(element.item())\n",
    "print(l)\n",
    "new_arr = np.array(l)\n",
    "print(new_arr)"
   ]
  },
  {
   "cell_type": "code",
   "execution_count": 29,
   "id": "e3bc1af5-f14e-48ef-8483-55ac7fe6f524",
   "metadata": {},
   "outputs": [
    {
     "name": "stdout",
     "output_type": "stream",
     "text": [
      "20\n"
     ]
    }
   ],
   "source": [
    "print(arr.size)"
   ]
  },
  {
   "cell_type": "code",
   "execution_count": 46,
   "id": "56314d0f-fe84-4468-9628-0be3b6260e32",
   "metadata": {},
   "outputs": [],
   "source": [
    "def numpy_boundary_transversal(matrix):\n",
    "    l = []\n",
    "    for element in arr[0]:\n",
    "        l.append(element.item())\n",
    "    for element in arr[1:,-1]:\n",
    "        l.append(element.item())\n",
    "    for element in arr[-1,-2::-1]:\n",
    "        l.append(element.item())\n",
    "    for element in arr[-2::-1, 0]:\n",
    "        l.append(element.item())\n",
    "    return l"
   ]
  },
  {
   "cell_type": "code",
   "execution_count": 47,
   "id": "ce994531-b4ff-4ce0-84ee-c296a6516879",
   "metadata": {},
   "outputs": [
    {
     "name": "stdout",
     "output_type": "stream",
     "text": [
      "[12, 13, 5, 45, 16, 15, 47, 39, 35, 32, 30, 42, 48, 11, 12]\n"
     ]
    }
   ],
   "source": [
    "print(numpy_boundary_transversal(arr))"
   ]
  },
  {
   "cell_type": "code",
   "execution_count": 50,
   "id": "e00b0fc1-d2ae-4e9c-bf61-2d55f42b9acd",
   "metadata": {},
   "outputs": [
    {
     "ename": "ModuleNotFoundError",
     "evalue": "No module named 'sklearn'",
     "output_type": "error",
     "traceback": [
      "\u001b[31m---------------------------------------------------------------------------\u001b[39m",
      "\u001b[31mModuleNotFoundError\u001b[39m                       Traceback (most recent call last)",
      "\u001b[36mCell\u001b[39m\u001b[36m \u001b[39m\u001b[32mIn[50]\u001b[39m\u001b[32m, line 1\u001b[39m\n\u001b[32m----> \u001b[39m\u001b[32m1\u001b[39m \u001b[38;5;28;01mimport\u001b[39;00m\u001b[38;5;250m \u001b[39m\u001b[34;01msklearn\u001b[39;00m\n",
      "\u001b[31mModuleNotFoundError\u001b[39m: No module named 'sklearn'"
     ]
    }
   ],
   "source": [
    "import sklearn"
   ]
  },
  {
   "cell_type": "code",
   "execution_count": null,
   "id": "aa7ce54d-f1eb-4a7c-a971-14b76cc92699",
   "metadata": {},
   "outputs": [],
   "source": []
  }
 ],
 "metadata": {
  "kernelspec": {
   "display_name": "Python 3 (ipykernel)",
   "language": "python",
   "name": "python3"
  },
  "language_info": {
   "codemirror_mode": {
    "name": "ipython",
    "version": 3
   },
   "file_extension": ".py",
   "mimetype": "text/x-python",
   "name": "python",
   "nbconvert_exporter": "python",
   "pygments_lexer": "ipython3",
   "version": "3.11.9"
  }
 },
 "nbformat": 4,
 "nbformat_minor": 5
}
