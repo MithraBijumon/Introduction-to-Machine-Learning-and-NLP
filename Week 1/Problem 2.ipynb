{
 "cells": [
  {
   "cell_type": "code",
   "execution_count": 12,
   "id": "0ebabf77-c4f0-4ef9-ba1f-527c41070973",
   "metadata": {},
   "outputs": [],
   "source": [
    "import numpy as np\n",
    "arr = np.random.rand(20) * 10"
   ]
  },
  {
   "cell_type": "code",
   "execution_count": 13,
   "id": "f08fee2b-7dd3-4363-80b5-2bec8bed62b6",
   "metadata": {},
   "outputs": [
    {
     "name": "stdout",
     "output_type": "stream",
     "text": [
      "[1.32904181 8.81285999 3.87411489 4.41568453 9.73053196 9.04216862\n",
      " 9.41191408 7.24160376 5.90515877 8.15613206 5.93190088 7.97332624\n",
      " 4.75968113 1.68284336 2.6127865  4.28622064 4.1839125  7.00508694\n",
      " 7.43894008 8.39461852]\n"
     ]
    }
   ],
   "source": [
    "print(arr)"
   ]
  },
  {
   "cell_type": "code",
   "execution_count": 14,
   "id": "3432e49d-9de9-4e87-b106-c7c861e8b0be",
   "metadata": {},
   "outputs": [
    {
     "name": "stdout",
     "output_type": "stream",
     "text": [
      "1.33\n",
      "8.81\n",
      "3.87\n",
      "4.42\n",
      "9.73\n",
      "9.04\n",
      "9.41\n",
      "7.24\n",
      "5.91\n",
      "8.16\n",
      "5.93\n",
      "7.97\n",
      "4.76\n",
      "1.68\n",
      "2.61\n",
      "4.29\n",
      "4.18\n",
      "7.01\n",
      "7.44\n",
      "8.39\n"
     ]
    }
   ],
   "source": [
    "arr = np.round(arr,2)\n",
    "for val in arr:\n",
    "    print(f\"{val:.2f}\")"
   ]
  },
  {
   "cell_type": "code",
   "execution_count": 15,
   "id": "b5678d31-c9a1-4cf5-82ca-71859b641012",
   "metadata": {},
   "outputs": [
    {
     "name": "stdout",
     "output_type": "stream",
     "text": [
      "9.73\n"
     ]
    }
   ],
   "source": [
    "print(arr.max())"
   ]
  },
  {
   "cell_type": "code",
   "execution_count": 16,
   "id": "edb0cb3e-0c10-4d57-a5be-083584a9d4c4",
   "metadata": {},
   "outputs": [
    {
     "name": "stdout",
     "output_type": "stream",
     "text": [
      "1.33\n"
     ]
    }
   ],
   "source": [
    "print(arr.min())"
   ]
  },
  {
   "cell_type": "code",
   "execution_count": 18,
   "id": "5a769e59-2666-4935-9a1f-f0764d316b81",
   "metadata": {},
   "outputs": [
    {
     "name": "stdout",
     "output_type": "stream",
     "text": [
      "6.47\n"
     ]
    }
   ],
   "source": [
    "print(np.median(arr))"
   ]
  },
  {
   "cell_type": "code",
   "execution_count": 21,
   "id": "1994bc6c-75e4-43c6-b8db-d2c9b987e8d9",
   "metadata": {},
   "outputs": [
    {
     "name": "stdout",
     "output_type": "stream",
     "text": [
      "[ 1.7689  8.81   14.9769 19.5364  9.73    9.04    9.41    7.24    5.91\n",
      "  8.16    5.93    7.97   22.6576  2.8224  6.8121 18.4041 17.4724  7.01\n",
      "  7.44    8.39  ]\n"
     ]
    }
   ],
   "source": [
    "for i in range(arr.size):\n",
    "    if arr[i]<5:\n",
    "        arr[i] *= arr[i]\n",
    "print(arr)"
   ]
  },
  {
   "cell_type": "code",
   "execution_count": 35,
   "id": "c3dc0b0b-c2c7-4145-ac74-1bd36a6d669f",
   "metadata": {},
   "outputs": [],
   "source": [
    "def numpy_alternate_sort(arr):\n",
    "    arr.sort()\n",
    "    out = np.empty(arr.size)\n",
    "    start = 0\n",
    "    end = arr.size-1\n",
    "    index=0\n",
    "    while (start<end):\n",
    "        out[index]=arr[start]\n",
    "        out[index+1]=arr[end]\n",
    "        index+=2\n",
    "        start+=1\n",
    "        end-=1\n",
    "    if start==end:\n",
    "        out.append(arr[start])\n",
    "    return out"
   ]
  },
  {
   "cell_type": "code",
   "execution_count": 38,
   "id": "c735e48d-090d-4803-a69d-4f4fb2c942fb",
   "metadata": {},
   "outputs": [
    {
     "name": "stdout",
     "output_type": "stream",
     "text": [
      "[ 1.7689 22.6576  2.8224 19.5364  5.91   18.4041  5.93   17.4724  6.8121\n",
      " 14.9769  7.01    9.73    7.24    9.41    7.44    9.04    7.97    8.81\n",
      "  8.16    8.39  ]\n"
     ]
    }
   ],
   "source": [
    "print(numpy_alternate_sort(arr))"
   ]
  },
  {
   "cell_type": "code",
   "execution_count": null,
   "id": "ab61b710-51fe-4378-917c-c2676f6eb0df",
   "metadata": {},
   "outputs": [],
   "source": []
  }
 ],
 "metadata": {
  "kernelspec": {
   "display_name": "Python 3 (ipykernel)",
   "language": "python",
   "name": "python3"
  },
  "language_info": {
   "codemirror_mode": {
    "name": "ipython",
    "version": 3
   },
   "file_extension": ".py",
   "mimetype": "text/x-python",
   "name": "python",
   "nbconvert_exporter": "python",
   "pygments_lexer": "ipython3",
   "version": "3.11.9"
  }
 },
 "nbformat": 4,
 "nbformat_minor": 5
}
