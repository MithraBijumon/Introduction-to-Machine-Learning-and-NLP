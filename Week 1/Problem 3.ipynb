{
 "cells": [
  {
   "cell_type": "code",
   "execution_count": 18,
   "id": "1a3d33c4-baaa-4896-943e-2a6fb92759b6",
   "metadata": {},
   "outputs": [
    {
     "name": "stdout",
     "output_type": "stream",
     "text": [
      "[88 55 75 90 61 50 97 81 72 71]\n"
     ]
    }
   ],
   "source": [
    "import pandas as pd\n",
    "import numpy as np\n",
    "score = np.random.randint(50,100, size=(10))\n",
    "print(score)"
   ]
  },
  {
   "cell_type": "code",
   "execution_count": 19,
   "id": "256c9397-30eb-4a3f-9b45-9402f7525ceb",
   "metadata": {},
   "outputs": [],
   "source": [
    "d = {\"Name\" : [\"Aarav\", \"Sana\", \"Ishaan\", \"Neha\", \"Kabir\", \"Meera\", \"Rohan\", \"Ananya\", \"Dev\", \"Tara\"], \n",
    "     \"Subject\" : [\"Mathematics\", \"Physics\", \"Chemistry\", \"Biology\", \"Physics\", \"English\", \"Mathematics\", \"History\", \"English\", \"Biology\"],\n",
    "     \"Score\" : score,\n",
    "     \"Grade\" : [None]*len(score)\n",
    "    }"
   ]
  },
  {
   "cell_type": "code",
   "execution_count": 20,
   "id": "5e474448-f6d6-4748-9545-4c5e124e3386",
   "metadata": {},
   "outputs": [
    {
     "name": "stdout",
     "output_type": "stream",
     "text": [
      "     Name      Subject  Score Grade\n",
      "0   Aarav  Mathematics     88  None\n",
      "1    Sana      Physics     55  None\n",
      "2  Ishaan    Chemistry     75  None\n",
      "3    Neha      Biology     90  None\n",
      "4   Kabir      Physics     61  None\n",
      "5   Meera      English     50  None\n",
      "6   Rohan  Mathematics     97  None\n",
      "7  Ananya      History     81  None\n",
      "8     Dev      English     72  None\n",
      "9    Tara      Biology     71  None\n"
     ]
    }
   ],
   "source": [
    "df = pd.DataFrame(d)\n",
    "print(df)"
   ]
  },
  {
   "cell_type": "code",
   "execution_count": 21,
   "id": "072f5f18-364a-4c1c-8bf2-98534e7d1044",
   "metadata": {},
   "outputs": [],
   "source": [
    "for i in range(10):\n",
    "    score = df.at[i,\"Score\"]\n",
    "    if score >= 90:\n",
    "        df.at[i, \"Grade\"] = \"A\"\n",
    "    elif score > 80:\n",
    "        df.at[i, \"Grade\"] = \"B\"\n",
    "    elif score > 70:\n",
    "        df.at[i, \"Grade\"] = \"C\"\n",
    "    elif score > 60:\n",
    "        df.at[i, \"Grade\"] = \"D\"\n",
    "    else:\n",
    "        df.at[i, \"Grade\"] = \"F\""
   ]
  },
  {
   "cell_type": "code",
   "execution_count": 22,
   "id": "a193c600-82de-4604-812b-8284ed6d94e2",
   "metadata": {},
   "outputs": [
    {
     "name": "stdout",
     "output_type": "stream",
     "text": [
      "     Name      Subject  Score Grade\n",
      "0   Aarav  Mathematics     88     B\n",
      "1    Sana      Physics     55     F\n",
      "2  Ishaan    Chemistry     75     C\n",
      "3    Neha      Biology     90     A\n",
      "4   Kabir      Physics     61     D\n",
      "5   Meera      English     50     F\n",
      "6   Rohan  Mathematics     97     A\n",
      "7  Ananya      History     81     B\n",
      "8     Dev      English     72     C\n",
      "9    Tara      Biology     71     C\n"
     ]
    }
   ],
   "source": [
    "print(df)"
   ]
  },
  {
   "cell_type": "code",
   "execution_count": 23,
   "id": "e5c12ba6-a265-403f-8487-d298dbecac0a",
   "metadata": {},
   "outputs": [
    {
     "data": {
      "text/html": [
       "<div>\n",
       "<style scoped>\n",
       "    .dataframe tbody tr th:only-of-type {\n",
       "        vertical-align: middle;\n",
       "    }\n",
       "\n",
       "    .dataframe tbody tr th {\n",
       "        vertical-align: top;\n",
       "    }\n",
       "\n",
       "    .dataframe thead th {\n",
       "        text-align: right;\n",
       "    }\n",
       "</style>\n",
       "<table border=\"1\" class=\"dataframe\">\n",
       "  <thead>\n",
       "    <tr style=\"text-align: right;\">\n",
       "      <th></th>\n",
       "      <th>Name</th>\n",
       "      <th>Subject</th>\n",
       "      <th>Score</th>\n",
       "      <th>Grade</th>\n",
       "    </tr>\n",
       "  </thead>\n",
       "  <tbody>\n",
       "    <tr>\n",
       "      <th>6</th>\n",
       "      <td>Rohan</td>\n",
       "      <td>Mathematics</td>\n",
       "      <td>97</td>\n",
       "      <td>A</td>\n",
       "    </tr>\n",
       "    <tr>\n",
       "      <th>3</th>\n",
       "      <td>Neha</td>\n",
       "      <td>Biology</td>\n",
       "      <td>90</td>\n",
       "      <td>A</td>\n",
       "    </tr>\n",
       "    <tr>\n",
       "      <th>0</th>\n",
       "      <td>Aarav</td>\n",
       "      <td>Mathematics</td>\n",
       "      <td>88</td>\n",
       "      <td>B</td>\n",
       "    </tr>\n",
       "    <tr>\n",
       "      <th>7</th>\n",
       "      <td>Ananya</td>\n",
       "      <td>History</td>\n",
       "      <td>81</td>\n",
       "      <td>B</td>\n",
       "    </tr>\n",
       "    <tr>\n",
       "      <th>2</th>\n",
       "      <td>Ishaan</td>\n",
       "      <td>Chemistry</td>\n",
       "      <td>75</td>\n",
       "      <td>C</td>\n",
       "    </tr>\n",
       "    <tr>\n",
       "      <th>8</th>\n",
       "      <td>Dev</td>\n",
       "      <td>English</td>\n",
       "      <td>72</td>\n",
       "      <td>C</td>\n",
       "    </tr>\n",
       "    <tr>\n",
       "      <th>9</th>\n",
       "      <td>Tara</td>\n",
       "      <td>Biology</td>\n",
       "      <td>71</td>\n",
       "      <td>C</td>\n",
       "    </tr>\n",
       "    <tr>\n",
       "      <th>4</th>\n",
       "      <td>Kabir</td>\n",
       "      <td>Physics</td>\n",
       "      <td>61</td>\n",
       "      <td>D</td>\n",
       "    </tr>\n",
       "    <tr>\n",
       "      <th>1</th>\n",
       "      <td>Sana</td>\n",
       "      <td>Physics</td>\n",
       "      <td>55</td>\n",
       "      <td>F</td>\n",
       "    </tr>\n",
       "    <tr>\n",
       "      <th>5</th>\n",
       "      <td>Meera</td>\n",
       "      <td>English</td>\n",
       "      <td>50</td>\n",
       "      <td>F</td>\n",
       "    </tr>\n",
       "  </tbody>\n",
       "</table>\n",
       "</div>"
      ],
      "text/plain": [
       "     Name      Subject  Score Grade\n",
       "6   Rohan  Mathematics     97     A\n",
       "3    Neha      Biology     90     A\n",
       "0   Aarav  Mathematics     88     B\n",
       "7  Ananya      History     81     B\n",
       "2  Ishaan    Chemistry     75     C\n",
       "8     Dev      English     72     C\n",
       "9    Tara      Biology     71     C\n",
       "4   Kabir      Physics     61     D\n",
       "1    Sana      Physics     55     F\n",
       "5   Meera      English     50     F"
      ]
     },
     "execution_count": 23,
     "metadata": {},
     "output_type": "execute_result"
    }
   ],
   "source": [
    "df.sort_values(\"Score\", ascending=False)"
   ]
  },
  {
   "cell_type": "code",
   "execution_count": 24,
   "id": "1f6caeae-7f7b-480c-b172-55e22c0d505a",
   "metadata": {},
   "outputs": [
    {
     "data": {
      "text/plain": [
       "Subject\n",
       "Biology        80.5\n",
       "Chemistry      75.0\n",
       "English        61.0\n",
       "History        81.0\n",
       "Mathematics    92.5\n",
       "Physics        58.0\n",
       "Name: Score, dtype: float64"
      ]
     },
     "execution_count": 24,
     "metadata": {},
     "output_type": "execute_result"
    }
   ],
   "source": [
    "df.groupby(\"Subject\")[\"Score\"].mean()"
   ]
  },
  {
   "cell_type": "code",
   "execution_count": 39,
   "id": "fee0bd3e-f2a4-40cb-907a-309c714345df",
   "metadata": {},
   "outputs": [],
   "source": [
    "def pandas_filter_pass(dataframe):\n",
    "    out = pd.DataFrame(columns=[\"Name\", \"Subject\", \"Score\", \"Grade\"])\n",
    "    for i in range(10):\n",
    "        if df.at[i,\"Grade\"] == \"A\" or df.at[i,\"Grade\"] == \"B\":\n",
    "            out = pd.concat([out, pd.DataFrame([dataframe.loc[i]])])\n",
    "    return out"
   ]
  },
  {
   "cell_type": "code",
   "execution_count": 40,
   "id": "81dfb62a-b041-4027-b20c-b260bad25b81",
   "metadata": {},
   "outputs": [
    {
     "name": "stdout",
     "output_type": "stream",
     "text": [
      "     Name      Subject Score Grade\n",
      "0   Aarav  Mathematics    88     B\n",
      "3    Neha      Biology    90     A\n",
      "6   Rohan  Mathematics    97     A\n",
      "7  Ananya      History    81     B\n"
     ]
    }
   ],
   "source": [
    "print(pandas_filter_pass(df))"
   ]
  }
 ],
 "metadata": {
  "kernelspec": {
   "display_name": "Python 3 (ipykernel)",
   "language": "python",
   "name": "python3"
  },
  "language_info": {
   "codemirror_mode": {
    "name": "ipython",
    "version": 3
   },
   "file_extension": ".py",
   "mimetype": "text/x-python",
   "name": "python",
   "nbconvert_exporter": "python",
   "pygments_lexer": "ipython3",
   "version": "3.11.9"
  }
 },
 "nbformat": 4,
 "nbformat_minor": 5
}
